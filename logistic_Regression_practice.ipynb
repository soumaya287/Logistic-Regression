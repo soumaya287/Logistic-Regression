{
  "cells": [
    {
      "cell_type": "markdown",
      "metadata": {
        "id": "view-in-github",
        "colab_type": "text"
      },
      "source": [
        "<a href=\"https://colab.research.google.com/github/soumaya287/Logistic-Regression/blob/main/logistic_Regression_practice.ipynb\" target=\"_parent\"><img src=\"https://colab.research.google.com/assets/colab-badge.svg\" alt=\"Open In Colab\"/></a>"
      ]
    },
    {
      "cell_type": "markdown",
      "id": "6a2a65e7",
      "metadata": {
        "id": "6a2a65e7"
      },
      "source": [
        "# Loading Data"
      ]
    },
    {
      "cell_type": "code",
      "execution_count": null,
      "id": "0d5a8cf5",
      "metadata": {
        "id": "0d5a8cf5",
        "outputId": "ae6f0f80-f0ec-47c1-e949-96e4019d0dec"
      },
      "outputs": [
        {
          "name": "stdout",
          "output_type": "stream",
          "text": [
            "   gmat  gpa  work_experience admitted\n",
            "0   780  4.0                3      yes\n",
            "1   750  3.9                4      yes\n",
            "2   690  3.3                3       no\n",
            "3   710  3.7                5      yes\n",
            "4   680  3.9                4       no\n"
          ]
        }
      ],
      "source": [
        "import pandas as pd\n",
        "import seaborn as sns\n",
        "import matplotlib.pyplot as plt\n",
        "import numpy as np\n",
        "dict1 = {\n",
        "    \"gmat\" : [780,750,690,710,680],\n",
        "    \"gpa\" : [4.0,3.9,3.3,3.7,3.9],\n",
        "    \"work_experience\" : [3,4,3,5,4],\n",
        "    \"admitted\" : [\"yes\",\"yes\",\"no\",\"yes\",\"no\"],\n",
        "    }\n",
        "data = pd.DataFrame(dict1)\n",
        "print(data)\n",
        "data.to_csv('Data.csv')\n",
        "new_data= pd.read_csv('Data.csv')"
      ]
    },
    {
      "cell_type": "markdown",
      "id": "0da0a651",
      "metadata": {
        "id": "0da0a651"
      },
      "source": [
        "# Logistic Regression Data Preparation"
      ]
    },
    {
      "cell_type": "code",
      "execution_count": null,
      "id": "7bb0e6e7",
      "metadata": {
        "id": "7bb0e6e7",
        "outputId": "9e49ec54-3615-4668-93ad-39fd593fdee5"
      },
      "outputs": [
        {
          "data": {
            "text/html": [
              "<div>\n",
              "<style scoped>\n",
              "    .dataframe tbody tr th:only-of-type {\n",
              "        vertical-align: middle;\n",
              "    }\n",
              "\n",
              "    .dataframe tbody tr th {\n",
              "        vertical-align: top;\n",
              "    }\n",
              "\n",
              "    .dataframe thead th {\n",
              "        text-align: right;\n",
              "    }\n",
              "</style>\n",
              "<table border=\"1\" class=\"dataframe\">\n",
              "  <thead>\n",
              "    <tr style=\"text-align: right;\">\n",
              "      <th></th>\n",
              "      <th>gmat</th>\n",
              "      <th>gpa</th>\n",
              "      <th>work_experience</th>\n",
              "      <th>admitted</th>\n",
              "    </tr>\n",
              "  </thead>\n",
              "  <tbody>\n",
              "    <tr>\n",
              "      <th>0</th>\n",
              "      <td>780</td>\n",
              "      <td>4.0</td>\n",
              "      <td>3</td>\n",
              "      <td>1</td>\n",
              "    </tr>\n",
              "    <tr>\n",
              "      <th>1</th>\n",
              "      <td>750</td>\n",
              "      <td>3.9</td>\n",
              "      <td>4</td>\n",
              "      <td>1</td>\n",
              "    </tr>\n",
              "    <tr>\n",
              "      <th>2</th>\n",
              "      <td>690</td>\n",
              "      <td>3.3</td>\n",
              "      <td>3</td>\n",
              "      <td>0</td>\n",
              "    </tr>\n",
              "    <tr>\n",
              "      <th>3</th>\n",
              "      <td>710</td>\n",
              "      <td>3.7</td>\n",
              "      <td>5</td>\n",
              "      <td>1</td>\n",
              "    </tr>\n",
              "    <tr>\n",
              "      <th>4</th>\n",
              "      <td>680</td>\n",
              "      <td>3.9</td>\n",
              "      <td>4</td>\n",
              "      <td>0</td>\n",
              "    </tr>\n",
              "  </tbody>\n",
              "</table>\n",
              "</div>"
            ],
            "text/plain": [
              "   gmat  gpa  work_experience  admitted\n",
              "0   780  4.0                3         1\n",
              "1   750  3.9                4         1\n",
              "2   690  3.3                3         0\n",
              "3   710  3.7                5         1\n",
              "4   680  3.9                4         0"
            ]
          },
          "execution_count": 7,
          "metadata": {},
          "output_type": "execute_result"
        }
      ],
      "source": [
        "#preparing data for logistic regression\n",
        "data[\"admitted\"]=data[\"admitted\"].map({\"yes\": 1, \"no\": 0})   #convert admitted variable into numerical\n",
        "data.head()\n"
      ]
    },
    {
      "cell_type": "markdown",
      "id": "2f28127f",
      "metadata": {
        "id": "2f28127f"
      },
      "source": [
        "# Logistic Regression Code"
      ]
    },
    {
      "cell_type": "code",
      "execution_count": null,
      "id": "4f7b8cf1",
      "metadata": {
        "id": "4f7b8cf1",
        "outputId": "cdaf50f2-fff0-4e86-bdb8-819ca289a2d4"
      },
      "outputs": [
        {
          "name": "stdout",
          "output_type": "stream",
          "text": [
            "Accuracy=1.00\n"
          ]
        }
      ],
      "source": [
        "#import relevant libraries\n",
        "from sklearn.model_selection import train_test_split\n",
        "from sklearn.linear_model import LogisticRegression\n",
        "from sklearn import metrics\n",
        "\n",
        "#features extraction\n",
        "x = data[['gmat', 'gpa','work_experience']]\n",
        "y = data['admitted']\n",
        "\n",
        "x_train,x_test,y_train,y_test = train_test_split(x,y,test_size=0.25,random_state=0)  #splitting data with test size of 25%\n",
        "\n",
        "logreg = LogisticRegression()   #build our logistic model\n",
        "logreg.fit(x_train, y_train)  #fitting training data\n",
        "y_pred  = logreg.predict(x_test)    #testing model’s performance\n",
        "print(\"Accuracy={:.2f}\".format(logreg.score(x_test, y_test)))"
      ]
    },
    {
      "cell_type": "markdown",
      "id": "fb4acf69",
      "metadata": {
        "id": "fb4acf69"
      },
      "source": [
        "# Logistic Regression Distribution"
      ]
    },
    {
      "cell_type": "code",
      "execution_count": null,
      "id": "878c408c",
      "metadata": {
        "id": "878c408c",
        "outputId": "a47f2147-c2d6-4c43-a29a-3df6f8d07f65"
      },
      "outputs": [
        {
          "data": {
            "text/plain": [
              "<AxesSubplot:xlabel='gpa', ylabel='admitted'>"
            ]
          },
          "execution_count": 13,
          "metadata": {},
          "output_type": "execute_result"
        },
        {
          "data": {
            "image/png": "[encoded data removed]",
            "text/plain": [
              "<Figure size 432x288 with 1 Axes>"
            ]
          },
          "metadata": {
            "needs_background": "light"
          },
          "output_type": "display_data"
        }
      ],
      "source": [
        "import seaborn as sns\n",
        "sns.regplot(x='gpa',y='admitted',data=data)"
      ]
    },
    {
      "cell_type": "markdown",
      "id": "8943664d",
      "metadata": {
        "id": "8943664d"
      },
      "source": [
        "# Logistic Regression Interpretation"
      ]
    },
    {
      "cell_type": "markdown",
      "id": "1921f4b5",
      "metadata": {
        "id": "1921f4b5"
      },
      "source": [
        "*If p >= 0.5, then the candidate is getting admitted.\n",
        "\n",
        "*If p < 0.5, then the candidate is not getting admitted."
      ]
    },
    {
      "cell_type": "markdown",
      "id": "11f5acf5",
      "metadata": {
        "id": "11f5acf5"
      },
      "source": [
        "# Confusion Matrix"
      ]
    },
    {
      "cell_type": "markdown",
      "id": "a575e454",
      "metadata": {
        "id": "a575e454"
      },
      "source": [
        "Just like accuracy, a confusion matrix is another way to evaluate Logistic Regression performance with more precision.\n",
        "\n",
        "This is what a confusion matrix looks like:"
      ]
    },
    {
      "cell_type": "code",
      "execution_count": null,
      "id": "f001f8ab",
      "metadata": {
        "id": "f001f8ab",
        "outputId": "d378c292-8f3a-4478-f1ad-8a489f2da608"
      },
      "outputs": [
        {
          "data": {
            "text/plain": [
              "<AxesSubplot:xlabel='Predicted', ylabel='Actual'>"
            ]
          },
          "execution_count": 14,
          "metadata": {},
          "output_type": "execute_result"
        },
        {
          "data": {
            "image/png": "[encoded data removed]",
            "text/plain": [
              "<Figure size 432x288 with 2 Axes>"
            ]
          },
          "metadata": {
            "needs_background": "light"
          },
          "output_type": "display_data"
        }
      ],
      "source": [
        "confusion_matrix = pd.crosstab(y_test, y_pred, rownames=['Actual'], colnames=['Predicted'])\n",
        "sns.heatmap(confusion_matrix, annot=True)"
      ]
    },
    {
      "cell_type": "markdown",
      "id": "61396cc9",
      "metadata": {
        "id": "61396cc9"
      },
      "source": [
        "# Classification Report"
      ]
    },
    {
      "cell_type": "markdown",
      "id": "b4a41492",
      "metadata": {
        "id": "b4a41492"
      },
      "source": [
        "Importing the classification report"
      ]
    },
    {
      "cell_type": "code",
      "execution_count": null,
      "id": "9c5e8f50",
      "metadata": {
        "id": "9c5e8f50",
        "outputId": "8face60c-b001-4efc-aaf9-49e491114d3e"
      },
      "outputs": [
        {
          "name": "stdout",
          "output_type": "stream",
          "text": [
            "              precision    recall  f1-score   support\n",
            "\n",
            "           0       1.00      1.00      1.00         1\n",
            "           1       1.00      1.00      1.00         1\n",
            "\n",
            "    accuracy                           1.00         2\n",
            "   macro avg       1.00      1.00      1.00         2\n",
            "weighted avg       1.00      1.00      1.00         2\n",
            "\n"
          ]
        }
      ],
      "source": [
        "from sklearn.metrics import classification_report\n",
        "print(classification_report(y_test,y_pred))"
      ]
    },
    {
      "cell_type": "markdown",
      "id": "1e123917",
      "metadata": {
        "id": "1e123917"
      },
      "source": [
        "# Logistic Regression Disadvantages"
      ]
    },
    {
      "cell_type": "markdown",
      "id": "ca7172cb",
      "metadata": {
        "id": "ca7172cb"
      },
      "source": [
        "Despite being a very efficient technique that does not require too many computational resources, Logistic regression has its cons:\n",
        "\n",
        "*Limited outcome since it can only predict categorical targets.\n",
        "\n",
        "*Vulnerable to overfitting.\n",
        "\n",
        "*Very sensitive to the quality of data and feature selection: You have to do a lot of preprocessing and data visualization before using logistic regression."
      ]
    },
    {
      "cell_type": "code",
      "execution_count": null,
      "id": "656818be",
      "metadata": {
        "id": "656818be"
      },
      "outputs": [],
      "source": [
        ""
      ]
    }
  ],
  "metadata": {
    "kernelspec": {
      "display_name": "Python 3 (ipykernel)",
      "language": "python",
      "name": "python3"
    },
    "language_info": {
      "codemirror_mode": {
        "name": "ipython",
        "version": 3
      },
      "file_extension": ".py",
      "mimetype": "text/x-python",
      "name": "python",
      "nbconvert_exporter": "python",
      "pygments_lexer": "ipython3",
      "version": "3.9.7"
    },
    "colab": {
      "name": "logistic Regression-practice.ipynb",
      "provenance": [],
      "include_colab_link": true
    }
  },
  "nbformat": 4,
  "nbformat_minor": 5
}